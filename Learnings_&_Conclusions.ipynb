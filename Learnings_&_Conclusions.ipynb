{
  "nbformat": 4,
  "nbformat_minor": 0,
  "metadata": {
    "colab": {
      "name": "Learnings_&_Conclusions.ipynb",
      "provenance": [],
      "collapsed_sections": [
        "dl6X1b5EgGK-",
        "4MZif6PYgNgg"
      ],
      "include_colab_link": true
    },
    "kernelspec": {
      "name": "python3",
      "display_name": "Python 3"
    }
  },
  "cells": [
    {
      "cell_type": "markdown",
      "metadata": {
        "id": "view-in-github",
        "colab_type": "text"
      },
      "source": [
        "<a href=\"https://colab.research.google.com/github/Artursf/datasharing/blob/master/Learnings_%26_Conclusions.ipynb\" target=\"_parent\"><img src=\"https://colab.research.google.com/assets/colab-badge.svg\" alt=\"Open In Colab\"/></a>"
      ]
    },
    {
      "cell_type": "markdown",
      "metadata": {
        "id": "a5fzAMdMMn-B",
        "colab_type": "text"
      },
      "source": [
        "# 01 - EXP 03 - Soft Bounce Reasons (Blacklists)\n",
        "\n"
      ]
    },
    {
      "cell_type": "markdown",
      "metadata": {
        "id": "TRpO3Hel2KJV",
        "colab_type": "text"
      },
      "source": [
        "[Kickoff Document](https://docs.google.com/document/d/16fKgRXzWQeK8c4vDU2UAmARrKSHwpZ_2L3JA4lQybw8/edit)\n",
        "\n",
        "```\n",
        "01 Why are we doing this? What problem/opportunity is the main motivator for this experiment?\n",
        "02 How the experiment impacts the problem/opportunity presented before?\n",
        "```\n",
        "\n",
        "[Hypothesis:](https://docs.google.com/document/d/1RirYIEHIeITRUQA-DhX6TFL7MLetMm95c9WABytoWJk/edit#heading=h.6jynaot9cbnq)\n",
        "\n",
        "| By identifying and removing non-sorbs blacklisted IPs in a specific pool, we expect to **reduce** the soft-bounce events from the RDSM accounts by an average of 20% in this pool up to a week or two. |\n",
        "|--------------------------------------------------------------------------------------------------------------------------------------------------------------------------------------------------------|\n",
        "\n",
        "[Learnings & Conclusions](https://docs.google.com/document/d/1wmAPhODKB3qcOFlsOpLqrDa6R1uHa0FJ4SYMhGjyW7A/edit#heading=h.6jynaot9cbnq)\n",
        "______________________________________________________________________________\n",
        "\n",
        "Code: [_Git_](https://github.com/ResultadosDigitais/data-science/tree/master/03%20Blacklists)"
      ]
    },
    {
      "cell_type": "code",
      "metadata": {
        "id": "s0vp55-oG_71",
        "colab_type": "code",
        "colab": {}
      },
      "source": [
        "import pandas as pd\n",
        "import statistics as stat\n",
        "import numpy as np\n",
        "import math as math"
      ],
      "execution_count": 1,
      "outputs": []
    },
    {
      "cell_type": "markdown",
      "metadata": {
        "id": "MgG6u4-wMWbT",
        "colab_type": "text"
      },
      "source": [
        "# 02 - Load EXP 03 - Data\n"
      ]
    },
    {
      "cell_type": "code",
      "metadata": {
        "id": "VoVN7x2SLsql",
        "colab_type": "code",
        "colab": {}
      },
      "source": [
        "#233310:\n",
        "url_1 = 'https://raw.githubusercontent.com/ResultadosDigitais/data-science/master/03%20Blacklists/233310/233310_(Control_Group).csv?token=AEENAZWOGFWEFDRWPDWLPB267MYZM'\n",
        "url_2 = 'https://raw.githubusercontent.com/ResultadosDigitais/data-science/master/03%20Blacklists/233310/233310_(Test_Group).csv?token=AEENAZVPXZVH4KMTIMSFTDC67MY2C'\n",
        "old_shared_CONTROL = pd.read_csv(url_1)\n",
        "old_shared_TEST = pd.read_csv(url_2)\n",
        "\n",
        "#bad_excellent:\n",
        "url_3 = 'https://raw.githubusercontent.com/ResultadosDigitais/data-science/master/03%20Blacklists/Bad_Excellent/Bad_Exc_(Control_Group).csv?token=AEENAZUNAXNKE77CBDDA2AK67MY6E'\n",
        "url_4 = 'https://raw.githubusercontent.com/ResultadosDigitais/data-science/master/03%20Blacklists/Bad_Excellent/Bad_Exc_(Test_Group).csv?token=AEENAZTWI6T46PJ2EGEMRYC67MY6W'\n",
        "BE_CONTROL = pd.read_csv(url_3)\n",
        "BE_TEST = pd.read_csv(url_4)\n",
        "\n",
        "#Magic Johnson:\n",
        "url_5 = 'https://raw.githubusercontent.com/ResultadosDigitais/data-science/master/03%20Blacklists/Magic_Johnson/MJ_(Control_Group).csv?token=AEENAZXYK2NQL7GKNH4XIG267MZAG'\n",
        "url_6 = 'https://raw.githubusercontent.com/ResultadosDigitais/data-science/master/03%20Blacklists/Magic_Johnson/MJ_(Test_Group).csv?token=AEENAZVXJVCAHEAXR6OZG2C67MZA6'\n",
        "MJ_CONTROL = pd.read_csv(url_5)\n",
        "MJ_TEST = pd.read_csv(url_6)"
      ],
      "execution_count": 2,
      "outputs": []
    },
    {
      "cell_type": "code",
      "metadata": {
        "id": "TD1bhmHyLzOI",
        "colab_type": "code",
        "colab": {
          "base_uri": "https://localhost:8080/",
          "height": 472
        },
        "outputId": "ffa05a38-8049-449b-e696-41cbea594375"
      },
      "source": [
        "#Dataframe standard columns names:\n",
        "old_shared_CONTROL.info()"
      ],
      "execution_count": 3,
      "outputs": [
        {
          "output_type": "stream",
          "text": [
            "<class 'pandas.core.frame.DataFrame'>\n",
            "RangeIndex: 102 entries, 0 to 101\n",
            "Data columns (total 18 columns):\n",
            " #   Column                       Non-Null Count  Dtype  \n",
            "---  ------                       --------------  -----  \n",
            " 0   day                          102 non-null    object \n",
            " 1   account_count                102 non-null    int64  \n",
            " 2   campaign_count               102 non-null    int64  \n",
            " 3   campaign_blocked_count       102 non-null    int64  \n",
            " 4   rdsm_campaign_leads_count    102 non-null    int64  \n",
            " 5   datalake_email_events_count  102 non-null    int64  \n",
            " 6   processed_count              102 non-null    int64  \n",
            " 7   delivered_count              102 non-null    int64  \n",
            " 8   opened_count                 102 non-null    int64  \n",
            " 9   clicked_count                102 non-null    int64  \n",
            " 10  soft_bounced_count           102 non-null    int64  \n",
            " 11  opened_count_unique          102 non-null    int64  \n",
            " 12  clicked_count_unique         102 non-null    int64  \n",
            " 13  delivered_rate               77 non-null     float64\n",
            " 14  opened_rate                  77 non-null     float64\n",
            " 15  clicked_rate                 77 non-null     float64\n",
            " 16  bounce_rate                  77 non-null     float64\n",
            " 17  soft_bounce_rate             77 non-null     float64\n",
            "dtypes: float64(5), int64(12), object(1)\n",
            "memory usage: 14.5+ KB\n"
          ],
          "name": "stdout"
        }
      ]
    },
    {
      "cell_type": "code",
      "metadata": {
        "id": "2KYw5KpcsbgF",
        "colab_type": "code",
        "colab": {
          "base_uri": "https://localhost:8080/",
          "height": 630
        },
        "outputId": "ee7ee650-d3b2-49df-b290-914d1dfbb6d3"
      },
      "source": [
        "#Change \"day\" schema to date:\n",
        "\n",
        "#233310:\n",
        "old_shared_CONTROL['day'] = pd.to_datetime(old_shared_CONTROL['day'])\n",
        "old_shared_CONTROL.set_index('day', inplace=False)\n",
        "\n",
        "old_shared_TEST['day'] = pd.to_datetime(old_shared_TEST['day'])\n",
        "old_shared_TEST.set_index('day', inplace=False)\n",
        "\n",
        "#bad_excellent:\n",
        "BE_CONTROL['day'] = pd.to_datetime(BE_CONTROL['day'])\n",
        "BE_CONTROL.set_index('day', inplace=False)\n",
        "\n",
        "BE_TEST['day'] = pd.to_datetime(BE_TEST['day'])\n",
        "BE_TEST.set_index('day', inplace=False)\n",
        "\n",
        "#Magic Johnson:\n",
        "MJ_CONTROL['day'] = pd.to_datetime(MJ_CONTROL['day'])\n",
        "MJ_CONTROL.set_index('day', inplace=False)\n",
        "\n",
        "MJ_TEST['day'] = pd.to_datetime(MJ_TEST['day'])\n",
        "MJ_TEST.set_index('day', inplace=False)"
      ],
      "execution_count": 4,
      "outputs": [
        {
          "output_type": "execute_result",
          "data": {
            "text/html": [
              "<div>\n",
              "<style scoped>\n",
              "    .dataframe tbody tr th:only-of-type {\n",
              "        vertical-align: middle;\n",
              "    }\n",
              "\n",
              "    .dataframe tbody tr th {\n",
              "        vertical-align: top;\n",
              "    }\n",
              "\n",
              "    .dataframe thead th {\n",
              "        text-align: right;\n",
              "    }\n",
              "</style>\n",
              "<table border=\"1\" class=\"dataframe\">\n",
              "  <thead>\n",
              "    <tr style=\"text-align: right;\">\n",
              "      <th></th>\n",
              "      <th>account_count</th>\n",
              "      <th>campaign_count</th>\n",
              "      <th>campaign_blocked_count</th>\n",
              "      <th>rdsm_campaign_leads_count</th>\n",
              "      <th>datalake_email_events_count</th>\n",
              "      <th>processed_count</th>\n",
              "      <th>delivered_count</th>\n",
              "      <th>opened_count</th>\n",
              "      <th>clicked_count</th>\n",
              "      <th>soft_bounced_count</th>\n",
              "      <th>opened_count_unique</th>\n",
              "      <th>clicked_count_unique</th>\n",
              "      <th>delivered_rate</th>\n",
              "      <th>opened_rate</th>\n",
              "      <th>clicked_rate</th>\n",
              "      <th>bounce_rate</th>\n",
              "      <th>soft_bounce_rate</th>\n",
              "    </tr>\n",
              "    <tr>\n",
              "      <th>day</th>\n",
              "      <th></th>\n",
              "      <th></th>\n",
              "      <th></th>\n",
              "      <th></th>\n",
              "      <th></th>\n",
              "      <th></th>\n",
              "      <th></th>\n",
              "      <th></th>\n",
              "      <th></th>\n",
              "      <th></th>\n",
              "      <th></th>\n",
              "      <th></th>\n",
              "      <th></th>\n",
              "      <th></th>\n",
              "      <th></th>\n",
              "      <th></th>\n",
              "      <th></th>\n",
              "    </tr>\n",
              "  </thead>\n",
              "  <tbody>\n",
              "    <tr>\n",
              "      <th>2020-06-10</th>\n",
              "      <td>6</td>\n",
              "      <td>9</td>\n",
              "      <td>1</td>\n",
              "      <td>95027</td>\n",
              "      <td>226025</td>\n",
              "      <td>88455</td>\n",
              "      <td>84971</td>\n",
              "      <td>14391</td>\n",
              "      <td>2812</td>\n",
              "      <td>2565</td>\n",
              "      <td>8320</td>\n",
              "      <td>1220</td>\n",
              "      <td>0.960613</td>\n",
              "      <td>0.097916</td>\n",
              "      <td>0.014358</td>\n",
              "      <td>0.050297</td>\n",
              "      <td>0.028986</td>\n",
              "    </tr>\n",
              "    <tr>\n",
              "      <th>2020-06-09</th>\n",
              "      <td>6</td>\n",
              "      <td>16</td>\n",
              "      <td>0</td>\n",
              "      <td>103299</td>\n",
              "      <td>240910</td>\n",
              "      <td>103253</td>\n",
              "      <td>102386</td>\n",
              "      <td>21544</td>\n",
              "      <td>1729</td>\n",
              "      <td>746</td>\n",
              "      <td>11183</td>\n",
              "      <td>1263</td>\n",
              "      <td>0.991603</td>\n",
              "      <td>0.109226</td>\n",
              "      <td>0.012336</td>\n",
              "      <td>0.009424</td>\n",
              "      <td>0.007167</td>\n",
              "    </tr>\n",
              "    <tr>\n",
              "      <th>2020-06-08</th>\n",
              "      <td>3</td>\n",
              "      <td>3</td>\n",
              "      <td>0</td>\n",
              "      <td>40000</td>\n",
              "      <td>89511</td>\n",
              "      <td>39990</td>\n",
              "      <td>39818</td>\n",
              "      <td>7289</td>\n",
              "      <td>717</td>\n",
              "      <td>203</td>\n",
              "      <td>3871</td>\n",
              "      <td>550</td>\n",
              "      <td>0.995699</td>\n",
              "      <td>0.097217</td>\n",
              "      <td>0.013813</td>\n",
              "      <td>0.005501</td>\n",
              "      <td>0.005076</td>\n",
              "    </tr>\n",
              "    <tr>\n",
              "      <th>2020-06-07</th>\n",
              "      <td>0</td>\n",
              "      <td>0</td>\n",
              "      <td>0</td>\n",
              "      <td>0</td>\n",
              "      <td>0</td>\n",
              "      <td>0</td>\n",
              "      <td>0</td>\n",
              "      <td>0</td>\n",
              "      <td>0</td>\n",
              "      <td>0</td>\n",
              "      <td>0</td>\n",
              "      <td>0</td>\n",
              "      <td>NaN</td>\n",
              "      <td>NaN</td>\n",
              "      <td>NaN</td>\n",
              "      <td>NaN</td>\n",
              "      <td>NaN</td>\n",
              "    </tr>\n",
              "    <tr>\n",
              "      <th>2020-06-06</th>\n",
              "      <td>1</td>\n",
              "      <td>1</td>\n",
              "      <td>0</td>\n",
              "      <td>627</td>\n",
              "      <td>1863</td>\n",
              "      <td>627</td>\n",
              "      <td>626</td>\n",
              "      <td>422</td>\n",
              "      <td>164</td>\n",
              "      <td>1</td>\n",
              "      <td>186</td>\n",
              "      <td>88</td>\n",
              "      <td>0.998405</td>\n",
              "      <td>0.297125</td>\n",
              "      <td>0.140575</td>\n",
              "      <td>0.001595</td>\n",
              "      <td>0.001595</td>\n",
              "    </tr>\n",
              "    <tr>\n",
              "      <th>...</th>\n",
              "      <td>...</td>\n",
              "      <td>...</td>\n",
              "      <td>...</td>\n",
              "      <td>...</td>\n",
              "      <td>...</td>\n",
              "      <td>...</td>\n",
              "      <td>...</td>\n",
              "      <td>...</td>\n",
              "      <td>...</td>\n",
              "      <td>...</td>\n",
              "      <td>...</td>\n",
              "      <td>...</td>\n",
              "      <td>...</td>\n",
              "      <td>...</td>\n",
              "      <td>...</td>\n",
              "      <td>...</td>\n",
              "      <td>...</td>\n",
              "    </tr>\n",
              "    <tr>\n",
              "      <th>2020-03-05</th>\n",
              "      <td>2</td>\n",
              "      <td>5</td>\n",
              "      <td>1</td>\n",
              "      <td>9292</td>\n",
              "      <td>16784</td>\n",
              "      <td>6743</td>\n",
              "      <td>6031</td>\n",
              "      <td>1198</td>\n",
              "      <td>162</td>\n",
              "      <td>150</td>\n",
              "      <td>529</td>\n",
              "      <td>75</td>\n",
              "      <td>0.894674</td>\n",
              "      <td>0.087713</td>\n",
              "      <td>0.012436</td>\n",
              "      <td>0.118528</td>\n",
              "      <td>0.022252</td>\n",
              "    </tr>\n",
              "    <tr>\n",
              "      <th>2020-03-04</th>\n",
              "      <td>3</td>\n",
              "      <td>8</td>\n",
              "      <td>1</td>\n",
              "      <td>40223</td>\n",
              "      <td>85421</td>\n",
              "      <td>37743</td>\n",
              "      <td>35592</td>\n",
              "      <td>5671</td>\n",
              "      <td>863</td>\n",
              "      <td>1918</td>\n",
              "      <td>2982</td>\n",
              "      <td>323</td>\n",
              "      <td>0.943009</td>\n",
              "      <td>0.083783</td>\n",
              "      <td>0.009075</td>\n",
              "      <td>0.078902</td>\n",
              "      <td>0.050764</td>\n",
              "    </tr>\n",
              "    <tr>\n",
              "      <th>2020-03-03</th>\n",
              "      <td>2</td>\n",
              "      <td>5</td>\n",
              "      <td>1</td>\n",
              "      <td>11726</td>\n",
              "      <td>33776</td>\n",
              "      <td>9712</td>\n",
              "      <td>8441</td>\n",
              "      <td>4278</td>\n",
              "      <td>535</td>\n",
              "      <td>1138</td>\n",
              "      <td>1790</td>\n",
              "      <td>243</td>\n",
              "      <td>0.869117</td>\n",
              "      <td>0.212085</td>\n",
              "      <td>0.028791</td>\n",
              "      <td>0.163938</td>\n",
              "      <td>0.117187</td>\n",
              "    </tr>\n",
              "    <tr>\n",
              "      <th>2020-03-02</th>\n",
              "      <td>3</td>\n",
              "      <td>6</td>\n",
              "      <td>1</td>\n",
              "      <td>19898</td>\n",
              "      <td>41376</td>\n",
              "      <td>16519</td>\n",
              "      <td>15165</td>\n",
              "      <td>5926</td>\n",
              "      <td>739</td>\n",
              "      <td>306</td>\n",
              "      <td>2768</td>\n",
              "      <td>232</td>\n",
              "      <td>0.918029</td>\n",
              "      <td>0.182538</td>\n",
              "      <td>0.015299</td>\n",
              "      <td>0.098317</td>\n",
              "      <td>0.018223</td>\n",
              "    </tr>\n",
              "    <tr>\n",
              "      <th>2020-03-01</th>\n",
              "      <td>0</td>\n",
              "      <td>0</td>\n",
              "      <td>0</td>\n",
              "      <td>0</td>\n",
              "      <td>0</td>\n",
              "      <td>0</td>\n",
              "      <td>0</td>\n",
              "      <td>0</td>\n",
              "      <td>0</td>\n",
              "      <td>0</td>\n",
              "      <td>0</td>\n",
              "      <td>0</td>\n",
              "      <td>NaN</td>\n",
              "      <td>NaN</td>\n",
              "      <td>NaN</td>\n",
              "      <td>NaN</td>\n",
              "      <td>NaN</td>\n",
              "    </tr>\n",
              "  </tbody>\n",
              "</table>\n",
              "<p>102 rows × 17 columns</p>\n",
              "</div>"
            ],
            "text/plain": [
              "            account_count  campaign_count  ...  bounce_rate  soft_bounce_rate\n",
              "day                                        ...                               \n",
              "2020-06-10              6               9  ...     0.050297          0.028986\n",
              "2020-06-09              6              16  ...     0.009424          0.007167\n",
              "2020-06-08              3               3  ...     0.005501          0.005076\n",
              "2020-06-07              0               0  ...          NaN               NaN\n",
              "2020-06-06              1               1  ...     0.001595          0.001595\n",
              "...                   ...             ...  ...          ...               ...\n",
              "2020-03-05              2               5  ...     0.118528          0.022252\n",
              "2020-03-04              3               8  ...     0.078902          0.050764\n",
              "2020-03-03              2               5  ...     0.163938          0.117187\n",
              "2020-03-02              3               6  ...     0.098317          0.018223\n",
              "2020-03-01              0               0  ...          NaN               NaN\n",
              "\n",
              "[102 rows x 17 columns]"
            ]
          },
          "metadata": {
            "tags": []
          },
          "execution_count": 4
        }
      ]
    },
    {
      "cell_type": "code",
      "metadata": {
        "id": "C--hWkVjO4B1",
        "colab_type": "code",
        "colab": {
          "base_uri": "https://localhost:8080/",
          "height": 472
        },
        "outputId": "8bbb93e2-13f0-433c-8453-d99442edd2ce"
      },
      "source": [
        "#Dataframe standard columns data:\n",
        "old_shared_CONTROL.info()"
      ],
      "execution_count": 5,
      "outputs": [
        {
          "output_type": "stream",
          "text": [
            "<class 'pandas.core.frame.DataFrame'>\n",
            "RangeIndex: 102 entries, 0 to 101\n",
            "Data columns (total 18 columns):\n",
            " #   Column                       Non-Null Count  Dtype         \n",
            "---  ------                       --------------  -----         \n",
            " 0   day                          102 non-null    datetime64[ns]\n",
            " 1   account_count                102 non-null    int64         \n",
            " 2   campaign_count               102 non-null    int64         \n",
            " 3   campaign_blocked_count       102 non-null    int64         \n",
            " 4   rdsm_campaign_leads_count    102 non-null    int64         \n",
            " 5   datalake_email_events_count  102 non-null    int64         \n",
            " 6   processed_count              102 non-null    int64         \n",
            " 7   delivered_count              102 non-null    int64         \n",
            " 8   opened_count                 102 non-null    int64         \n",
            " 9   clicked_count                102 non-null    int64         \n",
            " 10  soft_bounced_count           102 non-null    int64         \n",
            " 11  opened_count_unique          102 non-null    int64         \n",
            " 12  clicked_count_unique         102 non-null    int64         \n",
            " 13  delivered_rate               77 non-null     float64       \n",
            " 14  opened_rate                  77 non-null     float64       \n",
            " 15  clicked_rate                 77 non-null     float64       \n",
            " 16  bounce_rate                  77 non-null     float64       \n",
            " 17  soft_bounce_rate             77 non-null     float64       \n",
            "dtypes: datetime64[ns](1), float64(5), int64(12)\n",
            "memory usage: 14.5 KB\n"
          ],
          "name": "stdout"
        }
      ]
    },
    {
      "cell_type": "markdown",
      "metadata": {
        "id": "7Dd180sEbRMx",
        "colab_type": "text"
      },
      "source": [
        "# ----------  Paired Samples (Dependent)"
      ]
    },
    {
      "cell_type": "markdown",
      "metadata": {
        "id": "kso9i8aq0Wue",
        "colab_type": "text"
      },
      "source": [
        "# 03 - Base Metrics Calculation - Paired Samples (Dependent)"
      ]
    },
    {
      "cell_type": "code",
      "metadata": {
        "id": "wnvV7qNX16Gh",
        "colab_type": "code",
        "colab": {}
      },
      "source": [
        "## BEFORE (From '2020-05-11' to '2020-05-26') ~ 15 days\n",
        "#SB data before experiment:\n",
        "\n",
        "start_date_1 = '2020-05-11'\n",
        "end_date_1 = '2020-05-25'\n",
        "\n",
        "#233310:\n",
        "mask_data_before_exp_old_shared_CONTROL = (old_shared_CONTROL['day'] > start_date_1) & (old_shared_CONTROL['day'] <= end_date_1)\n",
        "data_before_exp_old_shared_CONTROL = old_shared_CONTROL.loc[mask_data_before_exp_old_shared_CONTROL]\n",
        "order_data_before_exp_old_shared_CONTROL = data_before_exp_old_shared_CONTROL.reset_index(drop=True)\n",
        "\n",
        "mask_data_before_exp_old_shared_TEST = (old_shared_TEST['day'] > start_date_1) & (old_shared_TEST['day'] <= end_date_1)\n",
        "data_before_exp_old_shared_TEST = old_shared_TEST.loc[mask_data_before_exp_old_shared_TEST]\n",
        "order_data_before_exp_old_shared_TEST = data_before_exp_old_shared_TEST.reset_index(drop=True)\n",
        "\n",
        "#bad_excellent:\n",
        "mask_data_before_exp_BE_CONTROL = (BE_CONTROL['day'] > start_date_1) & (BE_CONTROL['day'] <= end_date_1)\n",
        "data_before_exp_BE_CONTROL = BE_CONTROL.loc[mask_data_before_exp_BE_CONTROL]\n",
        "order_data_before_exp_BE_CONTROL = data_before_exp_BE_CONTROL.reset_index(drop=True)\n",
        "\n",
        "mask_data_before_exp_BE_TEST = (BE_TEST['day'] > start_date_1) & (BE_TEST['day'] <= end_date_1)\n",
        "data_before_exp_BE_TEST = BE_TEST.loc[mask_data_before_exp_BE_TEST]\n",
        "order_data_before_exp_BE_TEST = data_before_exp_BE_TEST.reset_index(drop=True)\n",
        "\n",
        "#Magic Johnson:\n",
        "mask_data_before_exp_MJ_CONTROL = (MJ_CONTROL['day'] > start_date_1) & (MJ_CONTROL['day'] <= end_date_1)\n",
        "data_before_exp_MJ_CONTROL = MJ_CONTROL.loc[mask_data_before_exp_MJ_CONTROL]\n",
        "order_data_before_exp_MJ_CONTROL = data_before_exp_MJ_CONTROL.reset_index(drop=True)\n",
        "\n",
        "mask_data_before_exp_MJ_TEST = (MJ_TEST['day'] > start_date_1) & (MJ_TEST['day'] <= end_date_1)\n",
        "data_before_exp_MJ_TEST = MJ_TEST.loc[mask_data_before_exp_MJ_TEST]\n",
        "order_data_before_exp_MJ_TEST = data_before_exp_MJ_TEST.reset_index(drop=True)"
      ],
      "execution_count": 7,
      "outputs": []
    },
    {
      "cell_type": "code",
      "metadata": {
        "id": "N_5Ckzg917kK",
        "colab_type": "code",
        "colab": {}
      },
      "source": [
        "## AFTER (From '2020-05-26' to '2020-06-11') ~ 15 days\n",
        "#SB data after experiment:\n",
        "\n",
        "start_date_2 = '2020-05-27'\n",
        "end_date_2 = '2020-06-11'\n",
        "\n",
        "#233310:\n",
        "mask_data_after_exp_old_shared_CONTROL = (old_shared_CONTROL['day'] > start_date_2) & (old_shared_CONTROL['day'] <= end_date_2)\n",
        "data_after_exp_old_shared_CONTROL = old_shared_CONTROL.loc[mask_data_after_exp_old_shared_CONTROL]\n",
        "order_data_after_exp_old_shared_CONTROL = data_after_exp_old_shared_CONTROL.reset_index(drop=True)\n",
        "\n",
        "mask_data_after_exp_old_shared_TEST = (old_shared_TEST['day'] > start_date_2) & (old_shared_TEST['day'] <= end_date_2)\n",
        "data_after_exp_old_shared_TEST = old_shared_TEST.loc[mask_data_after_exp_old_shared_TEST]\n",
        "order_data_after_exp_old_shared_TEST = data_after_exp_old_shared_TEST.reset_index(drop=True)\n",
        "\n",
        "#bad_excellent:\n",
        "mask_data_after_exp_BE_CONTROL = (BE_CONTROL['day'] > start_date_2) & (BE_CONTROL['day'] <= end_date_2)\n",
        "data_after_exp_BE_CONTROL = BE_CONTROL.loc[mask_data_after_exp_BE_CONTROL]\n",
        "order_data_after_exp_BE_CONTROL = data_after_exp_BE_CONTROL.reset_index(drop=True)\n",
        "\n",
        "mask_data_after_exp_BE_TEST = (BE_TEST['day'] > start_date_2) & (BE_TEST['day'] <= end_date_2)\n",
        "data_after_exp_BE_TEST = BE_TEST.loc[mask_data_after_exp_BE_TEST]\n",
        "order_data_after_exp_BE_TEST = data_after_exp_BE_TEST.reset_index(drop=True)\n",
        "\n",
        "#Magic Johnson:\n",
        "mask_data_after_exp_MJ_CONTROL = (MJ_CONTROL['day'] > start_date_2) & (MJ_CONTROL['day'] <= end_date_2)\n",
        "data_after_exp_MJ_CONTROL = MJ_CONTROL.loc[mask_data_after_exp_MJ_CONTROL]\n",
        "order_data_after_exp_MJ_CONTROL = data_after_exp_MJ_CONTROL.reset_index(drop=True)\n",
        "\n",
        "mask_data_after_exp_MJ_TEST = (MJ_TEST['day'] > start_date_2) & (MJ_TEST['day'] <= end_date_2)\n",
        "data_after_exp_MJ_TEST = MJ_TEST.loc[mask_data_after_exp_MJ_TEST]\n",
        "order_data_after_exp_MJ_TEST = data_after_exp_MJ_TEST.reset_index(drop=True)"
      ],
      "execution_count": 8,
      "outputs": []
    },
    {
      "cell_type": "code",
      "metadata": {
        "id": "UgpbbMvi0eev",
        "colab_type": "code",
        "colab": {}
      },
      "source": [
        "## BEFORE (From '2020-05-11' to '2020-05-26') ~ 15 days\n",
        "#SB data before experiment\n",
        "\n",
        "## AFTER (From '2020-05-26' to '2020-06-11') ~ 15 days\n",
        "#SB data after experiment\n",
        "\n",
        "#233310:\n",
        "order_data_before_exp_old_shared_CONTROL[np.isnan(order_data_before_exp_old_shared_CONTROL['soft_bounce_rate'])] = 0\n",
        "order_data_after_exp_old_shared_CONTROL[np.isnan(order_data_after_exp_old_shared_CONTROL['soft_bounce_rate'])] = 0\n",
        "order_data_before_exp_old_shared_TEST[np.isnan(order_data_before_exp_old_shared_TEST['soft_bounce_rate'])] = 0\n",
        "order_data_after_exp_old_shared_TEST[np.isnan(order_data_after_exp_old_shared_TEST['soft_bounce_rate'])] = 0\n",
        "\n",
        "#bad_excellent:\n",
        "order_data_before_exp_BE_CONTROL[np.isnan(order_data_before_exp_BE_CONTROL['soft_bounce_rate'])] = 0\n",
        "order_data_after_exp_BE_CONTROL[np.isnan(order_data_after_exp_BE_CONTROL['soft_bounce_rate'])] = 0\n",
        "order_data_before_exp_BE_TEST[np.isnan(order_data_before_exp_BE_TEST['soft_bounce_rate'])] = 0\n",
        "order_data_after_exp_BE_TEST[np.isnan(order_data_after_exp_BE_TEST['soft_bounce_rate'])] = 0\n",
        "\n",
        "#Magic Johnson:\n",
        "order_data_before_exp_MJ_CONTROL[np.isnan(order_data_before_exp_MJ_CONTROL['soft_bounce_rate'])] = 0\n",
        "order_data_after_exp_MJ_CONTROL[np.isnan(order_data_after_exp_MJ_CONTROL['soft_bounce_rate'])] = 0\n",
        "order_data_before_exp_MJ_TEST[np.isnan(order_data_before_exp_MJ_TEST['soft_bounce_rate'])] = 0\n",
        "order_data_after_exp_MJ_TEST[np.isnan(order_data_after_exp_MJ_TEST['soft_bounce_rate'])] = 0\n",
        "\n",
        "#__________________________________________________________________________\n",
        "\n",
        "#233310:\n",
        "data_diff_exp_old_shared_CONTROL = order_data_before_exp_old_shared_CONTROL['soft_bounce_rate'] - order_data_after_exp_old_shared_CONTROL['soft_bounce_rate']\n",
        "data_diff_exp_old_shared_TEST = order_data_before_exp_old_shared_TEST['soft_bounce_rate'] - order_data_after_exp_old_shared_TEST['soft_bounce_rate']\n",
        "\n",
        "#bad_excellent:\n",
        "data_diff_exp_BE_CONTROL = order_data_before_exp_BE_CONTROL['soft_bounce_rate'] - order_data_after_exp_BE_CONTROL['soft_bounce_rate']\n",
        "data_diff_exp_BE_TEST = order_data_before_exp_BE_TEST['soft_bounce_rate'] - order_data_after_exp_BE_TEST['soft_bounce_rate']\n",
        "\n",
        "#Magic Johnson:\n",
        "data_diff_exp_MJ_CONTROL = order_data_before_exp_MJ_CONTROL['soft_bounce_rate'] - order_data_after_exp_MJ_CONTROL['soft_bounce_rate']\n",
        "data_diff_exp_MJ_TEST = order_data_before_exp_MJ_TEST['soft_bounce_rate'] - order_data_after_exp_MJ_TEST['soft_bounce_rate']"
      ],
      "execution_count": 9,
      "outputs": []
    },
    {
      "cell_type": "code",
      "metadata": {
        "id": "RWU4q25kAELK",
        "colab_type": "code",
        "colab": {}
      },
      "source": [
        "#SUM diff - Σ(D)\n",
        "\n",
        "#233310:\n",
        "SUM_data_diff_exp_old_shared_CONTROL = data_diff_exp_old_shared_CONTROL.sum()\n",
        "SUM_data_diff_exp_old_shared_TEST = data_diff_exp_old_shared_TEST.sum()\n",
        "\n",
        "#bad_excellent:\n",
        "SUM_data_diff_exp_BE_CONTROL = data_diff_exp_BE_CONTROL.sum()\n",
        "SUM_data_diff_exp_BE_TEST = data_diff_exp_BE_TEST.sum()\n",
        "\n",
        "#Magic Johnson:\n",
        "SUM_data_diff_exp_MJ_CONTROL = data_diff_exp_MJ_CONTROL.sum()\n",
        "SUM_data_diff_exp_MJ_TEST = data_diff_exp_MJ_TEST.sum()"
      ],
      "execution_count": 47,
      "outputs": []
    },
    {
      "cell_type": "code",
      "metadata": {
        "id": "67CTd3wzBjTe",
        "colab_type": "code",
        "colab": {}
      },
      "source": [
        "#SQUARE - (D ** 2)\n",
        "\n",
        "#233310:\n",
        "SQRT_data_diff_exp_old_shared_CONTROL = data_diff_exp_old_shared_CONTROL * data_diff_exp_old_shared_CONTROL\n",
        "SQRT_data_diff_exp_old_shared_TEST = data_diff_exp_old_shared_TEST * data_diff_exp_old_shared_TEST\n",
        "\n",
        "#bad_excellent:\n",
        "SQRT_data_diff_exp_BE_CONTROL = data_diff_exp_BE_CONTROL * data_diff_exp_BE_CONTROL\n",
        "SQRT_data_diff_exp_BE_TEST = data_diff_exp_BE_TEST * data_diff_exp_BE_TEST\n",
        "\n",
        "#Magic Johnson:\n",
        "SQRT_data_diff_exp_MJ_CONTROL = data_diff_exp_MJ_CONTROL * data_diff_exp_MJ_CONTROL\n",
        "SQRT_data_diff_exp_MJ_TEST = data_diff_exp_MJ_TEST * data_diff_exp_MJ_TEST"
      ],
      "execution_count": 48,
      "outputs": []
    },
    {
      "cell_type": "code",
      "metadata": {
        "id": "nPZTdIRTDOUX",
        "colab_type": "code",
        "colab": {}
      },
      "source": [
        "#SUM SQUARE - Σ ( (D) ** 2 )\n",
        "\n",
        "#233310:\n",
        "SUM_SQRT_data_diff_exp_old_shared_CONTROL = SQRT_data_diff_exp_old_shared_CONTROL.sum()\n",
        "SUM_SQRT_data_diff_exp_old_shared_TEST = SQRT_data_diff_exp_old_shared_TEST.sum()\n",
        "\n",
        "#bad_excellent:\n",
        "SUM_SQRT_data_diff_exp_BE_CONTROL = SQRT_data_diff_exp_BE_CONTROL.sum()\n",
        "SUM_SQRT_data_diff_exp_BE_TEST = SQRT_data_diff_exp_BE_TEST.sum()\n",
        "\n",
        "#Magic Johnson:\n",
        "SUM_SQRT_data_diff_exp_MJ_CONTROL = SQRT_data_diff_exp_MJ_CONTROL.sum()\n",
        "SUM_SQRT_data_diff_exp_MJ_TEST = SQRT_data_diff_exp_MJ_TEST.sum()"
      ],
      "execution_count": 49,
      "outputs": []
    },
    {
      "cell_type": "code",
      "metadata": {
        "id": "8Pc4Tu0Deufc",
        "colab_type": "code",
        "colab": {}
      },
      "source": [
        "# Soft Bounce (SB) datapoints:\n",
        "\n",
        "#233310:\n",
        "diff_old_shared_CONTROL_SB_datapoints = data_diff_exp_old_shared_CONTROL.count()\n",
        "diff_old_shared_TEST_SB_datapoints = data_diff_exp_old_shared_TEST.count()\n",
        "\n",
        "#bad_excellent:\n",
        "diff_BE_CONTROL_SB_datapoints = data_diff_exp_BE_CONTROL.count()\n",
        "diff_BE_TEST_SB_datapoints = data_diff_exp_BE_TEST.count()\n",
        "\n",
        "#Magic Johnson:\n",
        "diff_MJ_CONTROL_SB_datapoints = data_diff_exp_MJ_CONTROL.count()\n",
        "diff_MJ_TEST_SB_datapoints = data_diff_exp_MJ_TEST.count()"
      ],
      "execution_count": 50,
      "outputs": []
    },
    {
      "cell_type": "markdown",
      "metadata": {
        "id": "M8ujCdsEcHJ9",
        "colab_type": "text"
      },
      "source": [
        "# 04 - Degrees of Freedom & Critical-Value & T-Table - Paired Samples (Dependent)\n"
      ]
    },
    {
      "cell_type": "code",
      "metadata": {
        "id": "u55rX-TZcsrE",
        "colab_type": "code",
        "colab": {}
      },
      "source": [
        "## BEFORE (From '2020-05-11' to '2020-05-26') ~ 15 days\n",
        "## AFTER (From '2020-05-26' to '2020-06-11') ~ 15 days\n",
        "\n",
        "# Soft Bounce (SB) Degrees of Freedom: - (N)\n",
        "\n",
        "#233310:\n",
        "df_diff_exp_old_shared_CONTROL = diff_old_shared_CONTROL_SB_datapoints - 1\n",
        "df_diff_exp_old_shared_TEST    = diff_old_shared_TEST_SB_datapoints - 1\n",
        "\n",
        "#bad_excellent:\n",
        "df_diff_exp_BE_CONTROL = diff_BE_CONTROL_SB_datapoints - 1\n",
        "df_diff_exp_BE_TEST    = diff_BE_TEST_SB_datapoints - 1\n",
        "\n",
        "#Magic Johnson:\n",
        "df_diff_exp_MJ_CONTROL = diff_MJ_CONTROL_SB_datapoints - 1\n",
        "df_diff_exp_MJ_TEST    = diff_MJ_TEST_SB_datapoints - 1"
      ],
      "execution_count": 51,
      "outputs": []
    },
    {
      "cell_type": "code",
      "metadata": {
        "id": "YTdAw73uf2kB",
        "colab_type": "code",
        "colab": {
          "base_uri": "https://localhost:8080/",
          "height": 254
        },
        "outputId": "c19f4ca2-949e-404a-fc61-39e7e0e46037"
      },
      "source": [
        "print('Degrees of Freedom:')\n",
        "print(' ')\n",
        "print('#233310:')\n",
        "print('df_diff_exp_old_shared_CONTROL = {}'.format(df_diff_exp_old_shared_CONTROL))\n",
        "print('df_diff_exp_old_shared_TEST = {}'.format(df_diff_exp_old_shared_TEST))\n",
        "print(' ')\n",
        "print('#bad_excellent:')\n",
        "print('df_diff_exp_BE_CONTROL = {}'.format(df_diff_exp_BE_CONTROL))\n",
        "print('df_diff_exp_BE_TEST = {}'.format(df_diff_exp_BE_TEST))\n",
        "print(' ')\n",
        "print('#Magic Johnson:')\n",
        "print('df_diff_exp_MJ_CONTROL = {}'.format(df_diff_exp_MJ_CONTROL))\n",
        "print('df_diff_exp_MJ_TEST = {}'.format(df_diff_exp_MJ_TEST))"
      ],
      "execution_count": 52,
      "outputs": [
        {
          "output_type": "stream",
          "text": [
            "Degrees of Freedom:\n",
            " \n",
            "#233310:\n",
            "df_diff_exp_old_shared_CONTROL = 13\n",
            "df_diff_exp_old_shared_TEST = 13\n",
            " \n",
            "#bad_excellent:\n",
            "df_diff_exp_BE_CONTROL = 13\n",
            "df_diff_exp_BE_TEST = 13\n",
            " \n",
            "#Magic Johnson:\n",
            "df_diff_exp_MJ_CONTROL = 13\n",
            "df_diff_exp_MJ_TEST = 13\n"
          ],
          "name": "stdout"
        }
      ]
    },
    {
      "cell_type": "markdown",
      "metadata": {
        "id": "GMqhZUIIpqMd",
        "colab_type": "text"
      },
      "source": [
        "![t-table-chosen](https://lh6.googleusercontent.com/-4YHhiUxkXTrksyXJqKzedw_pq55RDvGwVNS7srZx5Ts4tmV1iTAkC0a3hdBz6KO_sD7IK09_Njr2yCegrgz=w1920-h1007)"
      ]
    },
    {
      "cell_type": "code",
      "metadata": {
        "id": "Ya50IXTMgP5C",
        "colab_type": "code",
        "colab": {}
      },
      "source": [
        "# From the t-table:\n",
        "#_______________________________________________________\n",
        "# Alpha-value (\"Significance Level\") of 5%:   (Balanced Type I and Type II error probability)\n",
        "\n",
        "critical_value_diff_exp = 2.160  #13"
      ],
      "execution_count": 58,
      "outputs": []
    },
    {
      "cell_type": "markdown",
      "metadata": {
        "id": "7qph4areDsDQ",
        "colab_type": "text"
      },
      "source": [
        "# 05 - t-value - Paired Samples (Dependent)"
      ]
    },
    {
      "cell_type": "markdown",
      "metadata": {
        "id": "9OHTdV-GD0Hq",
        "colab_type": "text"
      },
      "source": [
        "Paired Samples (Dependent)\n",
        "\n",
        "http://www.statstutor.ac.uk/resources/uploaded/paired-t-test.pdf\n",
        "\n",
        "![texto alternativo](https://lh3.googleusercontent.com/lnzSnpmkCL09H6cn0Y_Eukn_BnqaZf0CSy2dy7RDCw2HrHzSQgflKSU4lu9o5M-EiI8MnZauPHR6UUa7Q7to=w1920-h1007)\n"
      ]
    },
    {
      "cell_type": "code",
      "metadata": {
        "id": "eODdHqWSD2E4",
        "colab_type": "code",
        "colab": {}
      },
      "source": [
        "# Unpaired Samples (Independent):\n",
        "\n",
        "#233310:\n",
        "t_value_paired_exp_old_shared_CONTROL = ( SUM_data_diff_exp_old_shared_CONTROL / df_diff_exp_old_shared_CONTROL ) / ( math.sqrt( ( (SUM_SQRT_data_diff_exp_old_shared_CONTROL) - ( ((SUM_data_diff_exp_old_shared_CONTROL) ** 2) / df_diff_exp_old_shared_CONTROL )) / ( (df_diff_exp_old_shared_CONTROL - 1) * df_diff_exp_old_shared_CONTROL)))\n",
        "t_value_paired_exp_old_shared_TEST = ( SUM_data_diff_exp_old_shared_TEST / df_diff_exp_old_shared_TEST ) / ( math.sqrt( ( (SUM_SQRT_data_diff_exp_old_shared_TEST) - ( ((SUM_data_diff_exp_old_shared_TEST) ** 2) / df_diff_exp_old_shared_TEST )) / ( (df_diff_exp_old_shared_TEST - 1) * df_diff_exp_old_shared_TEST)))\n",
        "\n",
        "#bad_excellent:\n",
        "t_value_paired_exp_BE_CONTROL = ( SUM_data_diff_exp_BE_CONTROL / df_diff_exp_BE_CONTROL ) / ( math.sqrt( ( (SUM_SQRT_data_diff_exp_BE_CONTROL) - ( ((SUM_data_diff_exp_BE_CONTROL) ** 2) / df_diff_exp_BE_CONTROL )) / ( (df_diff_exp_BE_CONTROL - 1) * df_diff_exp_BE_CONTROL)))\n",
        "t_value_paired_exp_BE_TEST = ( SUM_data_diff_exp_BE_TEST / df_diff_exp_BE_TEST ) / ( math.sqrt( ( (SUM_SQRT_data_diff_exp_BE_TEST) - ( ((SUM_data_diff_exp_BE_TEST) ** 2) / df_diff_exp_BE_TEST )) / ( (df_diff_exp_BE_TEST - 1) * df_diff_exp_BE_TEST)))\n",
        "\n",
        "#Magic Johnson:\n",
        "t_value_paired_exp_MJ_CONTROL = ( SUM_data_diff_exp_MJ_CONTROL / df_diff_exp_MJ_CONTROL ) / ( math.sqrt( ( (SUM_SQRT_data_diff_exp_MJ_CONTROL) - ( ((SUM_data_diff_exp_MJ_CONTROL) ** 2) / df_diff_exp_MJ_CONTROL )) / ( (df_diff_exp_MJ_CONTROL - 1) * df_diff_exp_MJ_CONTROL)))\n",
        "t_value_paired_exp_MJ_TEST = ( SUM_data_diff_exp_MJ_TEST / df_diff_exp_MJ_TEST ) / ( math.sqrt( ( (SUM_SQRT_data_diff_exp_MJ_TEST) - ( ((SUM_data_diff_exp_MJ_TEST) ** 2) / df_diff_exp_MJ_TEST )) / ( (df_diff_exp_MJ_TEST - 1) * df_diff_exp_MJ_TEST)))"
      ],
      "execution_count": 56,
      "outputs": []
    },
    {
      "cell_type": "code",
      "metadata": {
        "id": "BGuPvQDSD6ES",
        "colab_type": "code",
        "colab": {
          "base_uri": "https://localhost:8080/",
          "height": 254
        },
        "outputId": "9792f33a-8acf-4c3b-c4e6-0221ecf640de"
      },
      "source": [
        "print('T-Values:')\n",
        "print(' ')\n",
        "print('#233310:')\n",
        "print('t_value_paired_exp_old_shared_CONTROL = {}'.format(t_value_paired_exp_old_shared_CONTROL))\n",
        "print('t_value_paired_exp_old_shared_TEST = {}'.format(t_value_paired_exp_old_shared_TEST))\n",
        "print(' ')\n",
        "print('#bad_excellent:')\n",
        "print('t_value_paired_exp_BE_CONTROL = {}'.format(t_value_paired_exp_BE_CONTROL))\n",
        "print('t_value_paired_exp_BE_TEST = {}'.format(t_value_paired_exp_BE_TEST))\n",
        "print(' ')\n",
        "print('#Magic Johnson:')\n",
        "print('t_value_paired_exp_MJ_CONTROL = {}'.format(t_value_paired_exp_MJ_CONTROL))\n",
        "print('t_value_paired_exp_MJ_TEST = {}'.format(t_value_paired_exp_MJ_TEST))"
      ],
      "execution_count": 57,
      "outputs": [
        {
          "output_type": "stream",
          "text": [
            "T-Values:\n",
            " \n",
            "#233310:\n",
            "t_value_paired_exp_old_shared_CONTROL = 0.42203095039255506\n",
            "t_value_paired_exp_old_shared_TEST = 0.19446562174654317\n",
            " \n",
            "#bad_excellent:\n",
            "t_value_paired_exp_BE_CONTROL = -1.9373691824564752\n",
            "t_value_paired_exp_BE_TEST = -1.411741285143528\n",
            " \n",
            "#Magic Johnson:\n",
            "t_value_paired_exp_MJ_CONTROL = 0.1780527378131308\n",
            "t_value_paired_exp_MJ_TEST = 0.905201942481129\n"
          ],
          "name": "stdout"
        }
      ]
    },
    {
      "cell_type": "markdown",
      "metadata": {
        "id": "9UU8Zn4ZaH51",
        "colab_type": "text"
      },
      "source": [
        "# 06 - T-Test Check - Paired Samples (Dependent)"
      ]
    },
    {
      "cell_type": "code",
      "metadata": {
        "id": "baXs4UF_aRUu",
        "colab_type": "code",
        "colab": {
          "base_uri": "https://localhost:8080/",
          "height": 708
        },
        "outputId": "0063394f-7e5b-4562-d406-33122aaa558f"
      },
      "source": [
        "# Verifying t-test:\n",
        "# If T_Value > Critical_Value, then P_Value > .05\n",
        "\n",
        "#233310:\n",
        "print('#233310 - CONTROL:')\n",
        "print(' ')\n",
        "if t_value_paired_exp_old_shared_CONTROL > critical_value_diff_exp:\n",
        "    print(\"REJECT the H0 -> There is statistically significant difference between the samples\")\n",
        "else:\n",
        "    print(\"Don't Reject the H0 -> There is NO statistically significant difference between the samples\")\n",
        "print('t_value_exp_old_shared_CONTROL = {}'.format(t_value_paired_exp_old_shared_CONTROL))\n",
        "print('critical_value_exp_old_shared_CONTROL = {}'.format(critical_value_diff_exp))\n",
        "print(' ')\n",
        "print('#233310 - TEST:')\n",
        "print(' ')\n",
        "if t_value_paired_exp_old_shared_TEST > critical_value_diff_exp:\n",
        "    print(\"REJECT the H0 -> There is statistically significant difference between the samples\")\n",
        "else:\n",
        "    print(\"Don't Reject the H0 -> There is NO statistically significant difference between the samples\")\n",
        "print('t_value_exp_old_shared_TEST = {}'.format(t_value_paired_exp_old_shared_TEST))\n",
        "print('critical_value_exp_old_shared_TEST = {}'.format(critical_value_diff_exp))\n",
        "print('________________________________________________________________________________________________________')\n",
        "print(' ')\n",
        "\n",
        "#______________________________________________________________________________________________________________\n",
        "#bad_excellent:\n",
        "print('#bad_excellent - CONTROL:')\n",
        "print(' ')\n",
        "if t_value_paired_exp_BE_CONTROL > critical_value_diff_exp:\n",
        "    print(\"REJECT the H0 -> There is statistically significant difference between the samples\")\n",
        "else:\n",
        "    print(\"Don't Reject the H0 -> There is NO statistically significant difference between the samples\")\n",
        "print('t_value_exp_BE_CONTROL = {}'.format(t_value_paired_exp_BE_CONTROL))\n",
        "print('critical_value_exp_BE_CONTROL = {}'.format(critical_value_diff_exp))\n",
        "print(' ')\n",
        "print('#bad_excellent - TEST:')\n",
        "print(' ')\n",
        "if t_value_paired_exp_BE_TEST > critical_value_diff_exp:\n",
        "    print(\"REJECT the H0 -> There is statistically significant difference between the samples\")\n",
        "else:\n",
        "    print(\"Don't Reject the H0 -> There is NO statistically significant difference between the samples\")\n",
        "print('t_value_exp_BE_TEST = {}'.format(t_value_paired_exp_BE_TEST))\n",
        "print('critical_value_exp_BE_TEST = {}'.format(critical_value_diff_exp))\n",
        "print('________________________________________________________________________________________________________')\n",
        "print(' ')\n",
        "\n",
        "#______________________________________________________________________________________________________________\n",
        "#Magic Johnson:\n",
        "print('#Magic Johnson - CONTROL:')\n",
        "print(' ')\n",
        "if t_value_paired_exp_MJ_CONTROL > critical_value_diff_exp:\n",
        "    print(\"REJECT the H0 -> There is statistically significant difference between the samples\")\n",
        "else:\n",
        "    print(\"Don't Reject the H0 -> There is NO statistically significant difference between the samples\")\n",
        "print('t_value_exp_MJ_CONTROL = {}'.format(t_value_paired_exp_MJ_CONTROL))\n",
        "print('critical_value_exp_MJ_CONTROL = {}'.format(critical_value_diff_exp))\n",
        "print(' ')\n",
        "print(' ')\n",
        "print('#Magic Johnson - TEST:')\n",
        "print(' ')\n",
        "if t_value_paired_exp_MJ_TEST > critical_value_diff_exp:\n",
        "    print(\"REJECT the H0 -> There is statistically significant difference between the samples\")\n",
        "else:\n",
        "    print(\"Don't Reject the H0 -> There is NO statistically significant difference between the samples\")\n",
        "print('t_value_exp_MJ_TEST = {}'.format(t_value_paired_exp_MJ_TEST))\n",
        "print('critical_value_exp_MJ_TEST = {}'.format(critical_value_diff_exp))"
      ],
      "execution_count": 60,
      "outputs": [
        {
          "output_type": "stream",
          "text": [
            "#233310 - CONTROL:\n",
            " \n",
            "Don't Reject the H0 -> There is NO statistically significant difference between the samples\n",
            "t_value_exp_old_shared_CONTROL = 0.42203095039255506\n",
            "critical_value_exp_old_shared_CONTROL = 2.16\n",
            " \n",
            "#233310 - TEST:\n",
            " \n",
            "Don't Reject the H0 -> There is NO statistically significant difference between the samples\n",
            "t_value_exp_old_shared_TEST = 0.19446562174654317\n",
            "critical_value_exp_old_shared_TEST = 2.16\n",
            "________________________________________________________________________________________________________\n",
            " \n",
            "#bad_excellent - CONTROL:\n",
            " \n",
            "Don't Reject the H0 -> There is NO statistically significant difference between the samples\n",
            "t_value_exp_BE_CONTROL = -1.9373691824564752\n",
            "critical_value_exp_BE_CONTROL = 2.16\n",
            " \n",
            "#bad_excellent - TEST:\n",
            " \n",
            "Don't Reject the H0 -> There is NO statistically significant difference between the samples\n",
            "t_value_exp_BE_TEST = -1.411741285143528\n",
            "critical_value_exp_BE_TEST = 2.16\n",
            "________________________________________________________________________________________________________\n",
            " \n",
            "#Magic Johnson - CONTROL:\n",
            " \n",
            "Don't Reject the H0 -> There is NO statistically significant difference between the samples\n",
            "t_value_exp_MJ_CONTROL = 0.1780527378131308\n",
            "critical_value_exp_MJ_CONTROL = 2.16\n",
            " \n",
            " \n",
            "#Magic Johnson - TEST:\n",
            " \n",
            "Don't Reject the H0 -> There is NO statistically significant difference between the samples\n",
            "t_value_exp_MJ_TEST = 0.905201942481129\n",
            "critical_value_exp_MJ_TEST = 2.16\n"
          ],
          "name": "stdout"
        }
      ]
    },
    {
      "cell_type": "markdown",
      "metadata": {
        "id": "DdNLEg0obBT-",
        "colab_type": "text"
      },
      "source": [
        "# ----------  Unpaired Samples (Independent)\n",
        "\n",
        "\n"
      ]
    },
    {
      "cell_type": "markdown",
      "metadata": {
        "id": "o0c1tpHEO4a9",
        "colab_type": "text"
      },
      "source": [
        "# Base Metrics Calculation - Unpaired Samples (Independent)\n",
        "\n"
      ]
    },
    {
      "cell_type": "code",
      "metadata": {
        "id": "L0bzBbRaikIo",
        "colab_type": "code",
        "colab": {}
      },
      "source": [
        "## ALL_TIME (From '2020-03-01' to '2020-06-11')\n",
        "# Soft Bounce (SB) means:\n",
        "\n",
        "#233310:\n",
        "old_shared_CONTROL_Alltime_SB_mean = old_shared_CONTROL[\"soft_bounce_rate\"].mean(skipna = True)\n",
        "old_shared_TEST_Alltime_SB_mean = old_shared_TEST[\"soft_bounce_rate\"].mean(skipna = True)\n",
        "\n",
        "#bad_excellent:\n",
        "BE_CONTROL_Alltime_SB_mean = BE_CONTROL[\"soft_bounce_rate\"].mean(skipna = True)\n",
        "BE_TEST_Alltime_SB_mean = BE_TEST[\"soft_bounce_rate\"].mean(skipna = True)\n",
        "\n",
        "#Magic Johnson:\n",
        "MJ_CONTROL_Alltime_SB_mean = MJ_CONTROL[\"soft_bounce_rate\"].mean(skipna = True)\n",
        "MJ_TEST_Alltime_SB_mean = MJ_TEST[\"soft_bounce_rate\"].mean(skipna = True)"
      ],
      "execution_count": 6,
      "outputs": []
    },
    {
      "cell_type": "code",
      "metadata": {
        "id": "UxpQohfxWA0u",
        "colab_type": "code",
        "colab": {
          "base_uri": "https://localhost:8080/",
          "height": 254
        },
        "outputId": "af8daff3-976f-487c-d8f3-feeeaa6f3c82"
      },
      "source": [
        "print('All time SB means:')\n",
        "print(' ')\n",
        "print('#233310:')\n",
        "print('old_shared_CONTROL_Alltime_SB_mean = {}'.format(old_shared_CONTROL_Alltime_SB_mean))\n",
        "print('old_shared_TEST_Alltime_SB_mean = {}'.format(old_shared_TEST_Alltime_SB_mean))\n",
        "print(' ')\n",
        "print('#bad_excellent:')\n",
        "print('BE_CONTROL_Alltime_SB_mean = {}'.format(BE_CONTROL_Alltime_SB_mean))\n",
        "print('BE_TEST_Alltime_SB_mean = {}'.format(BE_TEST_Alltime_SB_mean))\n",
        "print(' ')\n",
        "print('#Magic Johnson:')\n",
        "print('MJ_CONTROL_Alltime_SB_mean = {}'.format(MJ_CONTROL_Alltime_SB_mean))\n",
        "print('MJ_TEST_Alltime_SB_mean = {}'.format(MJ_TEST_Alltime_SB_mean))"
      ],
      "execution_count": 7,
      "outputs": [
        {
          "output_type": "stream",
          "text": [
            "All time SB means:\n",
            " \n",
            "#233310:\n",
            "old_shared_CONTROL_Alltime_SB_mean = 0.019870591038961043\n",
            "old_shared_TEST_Alltime_SB_mean = 0.023886321194029853\n",
            " \n",
            "#bad_excellent:\n",
            "BE_CONTROL_Alltime_SB_mean = 0.05221895317073171\n",
            "BE_TEST_Alltime_SB_mean = 0.06862855013157895\n",
            " \n",
            "#Magic Johnson:\n",
            "MJ_CONTROL_Alltime_SB_mean = 0.03158165151162791\n",
            "MJ_TEST_Alltime_SB_mean = 0.044390002972972964\n"
          ],
          "name": "stdout"
        }
      ]
    },
    {
      "cell_type": "markdown",
      "metadata": {
        "id": "dl6X1b5EgGK-",
        "colab_type": "text"
      },
      "source": [
        "## BEFORE EXPERIMENT ( < 2020-05-26)"
      ]
    },
    {
      "cell_type": "code",
      "metadata": {
        "id": "H9MyLooIaJon",
        "colab_type": "code",
        "colab": {}
      },
      "source": [
        "## BEFORE (From '2020-05-11' to '2020-05-26') ~ 15 days\n",
        "#SB data before experiment:\n",
        "\n",
        "start_date_1 = '2020-05-11'\n",
        "end_date_1 = '2020-05-25'\n",
        "\n",
        "#233310:\n",
        "mask_data_before_exp_old_shared_CONTROL = (old_shared_CONTROL['day'] > start_date_1) & (old_shared_CONTROL['day'] <= end_date_1)\n",
        "data_before_exp_old_shared_CONTROL = old_shared_CONTROL.loc[mask_data_before_exp_old_shared_CONTROL]\n",
        "order_data_before_exp_old_shared_CONTROL = data_before_exp_old_shared_CONTROL.reset_index(drop=True)\n",
        "\n",
        "mask_data_before_exp_old_shared_TEST = (old_shared_TEST['day'] > start_date_1) & (old_shared_TEST['day'] <= end_date_1)\n",
        "data_before_exp_old_shared_TEST = old_shared_TEST.loc[mask_data_before_exp_old_shared_TEST]\n",
        "order_data_before_exp_old_shared_TEST = data_before_exp_old_shared_TEST.reset_index(drop=True)\n",
        "\n",
        "#bad_excellent:\n",
        "mask_data_before_exp_BE_CONTROL = (BE_CONTROL['day'] > start_date_1) & (BE_CONTROL['day'] <= end_date_1)\n",
        "data_before_exp_BE_CONTROL = BE_CONTROL.loc[mask_data_before_exp_BE_CONTROL]\n",
        "order_data_before_exp_BE_CONTROL = data_before_exp_BE_CONTROL.reset_index(drop=True)\n",
        "\n",
        "mask_data_before_exp_BE_TEST = (BE_TEST['day'] > start_date_1) & (BE_TEST['day'] <= end_date_1)\n",
        "data_before_exp_BE_TEST = BE_TEST.loc[mask_data_before_exp_BE_TEST]\n",
        "order_data_before_exp_BE_TEST = data_before_exp_BE_TEST.reset_index(drop=True)\n",
        "\n",
        "#Magic Johnson:\n",
        "mask_data_before_exp_MJ_CONTROL = (MJ_CONTROL['day'] > start_date_1) & (MJ_CONTROL['day'] <= end_date_1)\n",
        "data_before_exp_MJ_CONTROL = MJ_CONTROL.loc[mask_data_before_exp_MJ_CONTROL]\n",
        "order_data_before_exp_MJ_CONTROL = data_before_exp_MJ_CONTROL.reset_index(drop=True)\n",
        "\n",
        "mask_data_before_exp_MJ_TEST = (MJ_TEST['day'] > start_date_1) & (MJ_TEST['day'] <= end_date_1)\n",
        "data_before_exp_MJ_TEST = MJ_TEST.loc[mask_data_before_exp_MJ_TEST]\n",
        "order_data_before_exp_MJ_TEST = data_before_exp_MJ_TEST.reset_index(drop=True)"
      ],
      "execution_count": 19,
      "outputs": []
    },
    {
      "cell_type": "code",
      "metadata": {
        "id": "7awSFMNFgDvW",
        "colab_type": "code",
        "colab": {}
      },
      "source": [
        "## BEFORE (From '2020-05-11' to '2020-05-26')\n",
        "# Soft Bounce (SB) means:\n",
        "\n",
        "#233310:\n",
        "old_shared_CONTROL_before_SB_mean = data_before_exp_old_shared_CONTROL[\"soft_bounce_rate\"].mean(skipna = True)\n",
        "old_shared_TEST_before_SB_mean = data_before_exp_old_shared_TEST[\"soft_bounce_rate\"].mean(skipna = True)\n",
        "\n",
        "#bad_excellent:\n",
        "BE_CONTROL_before_SB_mean = data_before_exp_BE_CONTROL[\"soft_bounce_rate\"].mean(skipna = True)\n",
        "BE_TEST_before_SB_mean = data_before_exp_BE_TEST[\"soft_bounce_rate\"].mean(skipna = True)\n",
        "\n",
        "#Magic Johnson:\n",
        "MJ_CONTROL_before_SB_mean = data_before_exp_MJ_CONTROL[\"soft_bounce_rate\"].mean(skipna = True)\n",
        "MJ_TEST_before_SB_mean = data_before_exp_MJ_TEST[\"soft_bounce_rate\"].mean(skipna = True)"
      ],
      "execution_count": 9,
      "outputs": []
    },
    {
      "cell_type": "code",
      "metadata": {
        "id": "rUMj-Wkthh--",
        "colab_type": "code",
        "colab": {}
      },
      "source": [
        "## BEFORE (From '2020-05-11' to '2020-05-26')\n",
        "# Soft Bounce (SB) standard deviation (s):\n",
        "\n",
        "#233310:\n",
        "old_shared_CONTROL_before_SB_stdev = np.nanstd(data_before_exp_old_shared_CONTROL[\"soft_bounce_rate\"])\n",
        "old_shared_TEST_before_SB_stdev = np.nanstd(data_before_exp_old_shared_TEST[\"soft_bounce_rate\"])\n",
        "\n",
        "#bad_excellent:\n",
        "BE_CONTROL_before_SB_stdev = np.nanstd(data_before_exp_BE_CONTROL[\"soft_bounce_rate\"])\n",
        "BE_TEST_before_SB_stdev = np.nanstd(data_before_exp_BE_TEST[\"soft_bounce_rate\"])\n",
        "\n",
        "#Magic Johnson:\n",
        "MJ_CONTROL_before_SB_stdev = np.nanstd(data_before_exp_MJ_CONTROL[\"soft_bounce_rate\"])\n",
        "MJ_TEST_before_SB_stdev = np.nanstd(data_before_exp_MJ_TEST[\"soft_bounce_rate\"])"
      ],
      "execution_count": 10,
      "outputs": []
    },
    {
      "cell_type": "code",
      "metadata": {
        "id": "O8dUwM5Yke8l",
        "colab_type": "code",
        "colab": {}
      },
      "source": [
        "## BEFORE (From '2020-05-11' to '2020-05-26')\n",
        "# Soft Bounce (SB) variance (s^2):\n",
        "\n",
        "#233310:\n",
        "old_shared_CONTROL_before_SB_variance = np.nanstd(data_before_exp_old_shared_CONTROL[\"soft_bounce_rate\"])*np.nanstd(data_before_exp_old_shared_CONTROL[\"soft_bounce_rate\"])\n",
        "old_shared_TEST_before_SB_variance = np.nanstd(data_before_exp_old_shared_TEST[\"soft_bounce_rate\"])*np.nanstd(data_before_exp_old_shared_TEST[\"soft_bounce_rate\"])\n",
        "\n",
        "#bad_excellent:\n",
        "BE_CONTROL_before_SB_variance = np.nanstd(data_before_exp_BE_CONTROL[\"soft_bounce_rate\"])*np.nanstd(data_before_exp_BE_CONTROL[\"soft_bounce_rate\"])\n",
        "BE_TEST_before_SB_variance = np.nanstd(data_before_exp_BE_TEST[\"soft_bounce_rate\"])*np.nanstd(data_before_exp_BE_TEST[\"soft_bounce_rate\"])\n",
        "\n",
        "#Magic Johnson:\n",
        "MJ_CONTROL_before_SB_variance = np.nanstd(data_before_exp_MJ_CONTROL[\"soft_bounce_rate\"])*np.nanstd(data_before_exp_MJ_CONTROL[\"soft_bounce_rate\"])\n",
        "MJ_TEST_before_SB_variance = np.nanstd(data_before_exp_MJ_TEST[\"soft_bounce_rate\"])*np.nanstd(data_before_exp_MJ_TEST[\"soft_bounce_rate\"])"
      ],
      "execution_count": 11,
      "outputs": []
    },
    {
      "cell_type": "code",
      "metadata": {
        "id": "689tqc7NlU2j",
        "colab_type": "code",
        "colab": {}
      },
      "source": [
        "## BEFORE (From '2020-05-11' to '2020-05-26')\n",
        "# Non-NaN Soft Bounce (SB) datapoints:\n",
        "\n",
        "#233310:\n",
        "old_shared_CONTROL_before_SB_datapoints = data_before_exp_old_shared_CONTROL['soft_bounce_rate'].count()\n",
        "old_shared_TEST_before_SB_datapoints = data_before_exp_old_shared_TEST['soft_bounce_rate'].count()\n",
        "\n",
        "#bad_excellent:\n",
        "BE_CONTROL_before_SB_datapoints = data_before_exp_BE_CONTROL['soft_bounce_rate'].count()\n",
        "BE_TEST_before_SB_datapoints = data_before_exp_BE_TEST['soft_bounce_rate'].count()\n",
        "\n",
        "#Magic Johnson:\n",
        "MJ_CONTROL_before_SB_datapoints = data_before_exp_MJ_CONTROL['soft_bounce_rate'].count()\n",
        "MJ_TEST_before_SB_datapoints = data_before_exp_MJ_TEST['soft_bounce_rate'].count()"
      ],
      "execution_count": 12,
      "outputs": []
    },
    {
      "cell_type": "markdown",
      "metadata": {
        "id": "4MZif6PYgNgg",
        "colab_type": "text"
      },
      "source": [
        "## AFTER EXPERIMENT ( > 2020-05-26)"
      ]
    },
    {
      "cell_type": "code",
      "metadata": {
        "id": "0dwWfoPmaRBX",
        "colab_type": "code",
        "colab": {}
      },
      "source": [
        "## AFTER (From '2020-05-26' to '2020-06-11') ~ 15 days\n",
        "#SB data after experiment:\n",
        "\n",
        "start_date_2 = '2020-05-27'\n",
        "end_date_2 = '2020-06-11'\n",
        "\n",
        "#233310:\n",
        "mask_data_after_exp_old_shared_CONTROL = (old_shared_CONTROL['day'] > start_date_2) & (old_shared_CONTROL['day'] <= end_date_2)\n",
        "data_after_exp_old_shared_CONTROL = old_shared_CONTROL.loc[mask_data_after_exp_old_shared_CONTROL]\n",
        "order_data_after_exp_old_shared_CONTROL = data_after_exp_old_shared_CONTROL.reset_index(drop=True)\n",
        "\n",
        "mask_data_after_exp_old_shared_TEST = (old_shared_TEST['day'] > start_date_2) & (old_shared_TEST['day'] <= end_date_2)\n",
        "data_after_exp_old_shared_TEST = old_shared_TEST.loc[mask_data_after_exp_old_shared_TEST]\n",
        "order_data_after_exp_old_shared_TEST = data_after_exp_old_shared_TEST.reset_index(drop=True)\n",
        "\n",
        "#bad_excellent:\n",
        "mask_data_after_exp_BE_CONTROL = (BE_CONTROL['day'] > start_date_2) & (BE_CONTROL['day'] <= end_date_2)\n",
        "data_after_exp_BE_CONTROL = BE_CONTROL.loc[mask_data_after_exp_BE_CONTROL]\n",
        "order_data_after_exp_BE_CONTROL = data_after_exp_BE_CONTROL.reset_index(drop=True)\n",
        "\n",
        "mask_data_after_exp_BE_TEST = (BE_TEST['day'] > start_date_2) & (BE_TEST['day'] <= end_date_2)\n",
        "data_after_exp_BE_TEST = BE_TEST.loc[mask_data_after_exp_BE_TEST]\n",
        "order_data_after_exp_BE_TEST = data_after_exp_BE_TEST.reset_index(drop=True)\n",
        "\n",
        "#Magic Johnson:\n",
        "mask_data_after_exp_MJ_CONTROL = (MJ_CONTROL['day'] > start_date_2) & (MJ_CONTROL['day'] <= end_date_2)\n",
        "data_after_exp_MJ_CONTROL = MJ_CONTROL.loc[mask_data_after_exp_MJ_CONTROL]\n",
        "order_data_after_exp_MJ_CONTROL = data_after_exp_MJ_CONTROL.reset_index(drop=True)\n",
        "\n",
        "mask_data_after_exp_MJ_TEST = (MJ_TEST['day'] > start_date_2) & (MJ_TEST['day'] <= end_date_2)\n",
        "data_after_exp_MJ_TEST = MJ_TEST.loc[mask_data_after_exp_MJ_TEST]\n",
        "order_data_after_exp_MJ_TEST = data_after_exp_MJ_TEST.reset_index(drop=True)"
      ],
      "execution_count": 20,
      "outputs": []
    },
    {
      "cell_type": "code",
      "metadata": {
        "id": "5oPnP-91g8-Z",
        "colab_type": "code",
        "colab": {}
      },
      "source": [
        "## AFTER (From '2020-05-26' to '2020-06-11')\n",
        "# Soft Bounce (SB) means:\n",
        "\n",
        "#233310:\n",
        "old_shared_CONTROL_after_SB_mean = data_after_exp_old_shared_CONTROL[\"soft_bounce_rate\"].mean(skipna = True)\n",
        "old_shared_TEST_after_SB_mean = data_after_exp_old_shared_TEST[\"soft_bounce_rate\"].mean(skipna = True)\n",
        "\n",
        "#bad_excellent:\n",
        "BE_CONTROL_after_SB_mean = data_after_exp_BE_CONTROL[\"soft_bounce_rate\"].mean(skipna = True)\n",
        "BE_TEST_after_SB_mean = data_after_exp_BE_TEST[\"soft_bounce_rate\"].mean(skipna = True)\n",
        "\n",
        "#Magic Johnson:\n",
        "MJ_CONTROL_after_SB_mean = data_after_exp_MJ_CONTROL[\"soft_bounce_rate\"].mean(skipna = True)\n",
        "MJ_TEST_after_SB_mean = data_after_exp_MJ_TEST[\"soft_bounce_rate\"].mean(skipna = True)"
      ],
      "execution_count": 14,
      "outputs": []
    },
    {
      "cell_type": "code",
      "metadata": {
        "id": "-234We4ZkBUb",
        "colab_type": "code",
        "colab": {}
      },
      "source": [
        "## AFTER (From '2020-05-26' to '2020-06-11')\n",
        "# Soft Bounce (SB) standard deviation (s):\n",
        "\n",
        "#233310:\n",
        "old_shared_CONTROL_after_SB_stdev = np.nanstd(data_after_exp_old_shared_CONTROL[\"soft_bounce_rate\"])\n",
        "old_shared_TEST_after_SB_stdev = np.nanstd(data_after_exp_old_shared_TEST[\"soft_bounce_rate\"])\n",
        "\n",
        "#bad_excellent:\n",
        "BE_CONTROL_after_SB_stdev = np.nanstd(data_after_exp_BE_CONTROL[\"soft_bounce_rate\"])\n",
        "BE_TEST_after_SB_stdev = np.nanstd(data_after_exp_BE_TEST[\"soft_bounce_rate\"])\n",
        "\n",
        "#Magic Johnson:\n",
        "MJ_CONTROL_after_SB_stdev = np.nanstd(data_after_exp_MJ_CONTROL[\"soft_bounce_rate\"])\n",
        "MJ_TEST_after_SB_stdev = np.nanstd(data_after_exp_MJ_TEST[\"soft_bounce_rate\"])"
      ],
      "execution_count": 15,
      "outputs": []
    },
    {
      "cell_type": "code",
      "metadata": {
        "id": "mDZJm1Juk3u-",
        "colab_type": "code",
        "colab": {}
      },
      "source": [
        "## AFTER (From '2020-05-26' to '2020-06-11')\n",
        "# Soft Bounce (SB) variance (s^2):\n",
        "\n",
        "#233310:\n",
        "old_shared_CONTROL_after_SB_variance = np.nanstd(data_after_exp_old_shared_CONTROL[\"soft_bounce_rate\"])*np.nanstd(data_after_exp_old_shared_CONTROL[\"soft_bounce_rate\"])\n",
        "old_shared_TEST_after_SB_variance = np.nanstd(data_after_exp_old_shared_TEST[\"soft_bounce_rate\"])*np.nanstd(data_after_exp_old_shared_TEST[\"soft_bounce_rate\"])\n",
        "\n",
        "#bad_excellent:\n",
        "BE_CONTROL_after_SB_variance = np.nanstd(data_after_exp_BE_CONTROL[\"soft_bounce_rate\"])*np.nanstd(data_after_exp_BE_CONTROL[\"soft_bounce_rate\"])\n",
        "BE_TEST_after_SB_variance = np.nanstd(data_after_exp_BE_TEST[\"soft_bounce_rate\"])*np.nanstd(data_after_exp_BE_TEST[\"soft_bounce_rate\"])\n",
        "\n",
        "#Magic Johnson:\n",
        "MJ_CONTROL_after_SB_variance = np.nanstd(data_after_exp_MJ_CONTROL[\"soft_bounce_rate\"])*np.nanstd(data_after_exp_MJ_CONTROL[\"soft_bounce_rate\"])\n",
        "MJ_TEST_after_SB_variance = np.nanstd(data_after_exp_MJ_TEST[\"soft_bounce_rate\"])*np.nanstd(data_after_exp_MJ_TEST[\"soft_bounce_rate\"])"
      ],
      "execution_count": 16,
      "outputs": []
    },
    {
      "cell_type": "code",
      "metadata": {
        "id": "QXMfxw3LlKXo",
        "colab_type": "code",
        "colab": {}
      },
      "source": [
        "## AFTER (From '2020-05-26' to '2020-06-11')\n",
        "# Non-NaN Soft Bounce (SB) datapoints:\n",
        "\n",
        "#233310:\n",
        "old_shared_CONTROL_after_SB_datapoints = data_after_exp_old_shared_CONTROL['soft_bounce_rate'].count()\n",
        "old_shared_TEST_after_SB_datapoints = data_after_exp_old_shared_TEST['soft_bounce_rate'].count()\n",
        "\n",
        "#bad_excellent:\n",
        "BE_CONTROL_after_SB_datapoints = data_after_exp_BE_CONTROL['soft_bounce_rate'].count()\n",
        "BE_TEST_after_SB_datapoints = data_after_exp_BE_TEST['soft_bounce_rate'].count()\n",
        "\n",
        "#Magic Johnson:\n",
        "MJ_CONTROL_after_SB_datapoints = data_after_exp_MJ_CONTROL['soft_bounce_rate'].count()\n",
        "MJ_TEST_after_SB_datapoints = data_after_exp_MJ_TEST['soft_bounce_rate'].count()"
      ],
      "execution_count": 17,
      "outputs": []
    },
    {
      "cell_type": "markdown",
      "metadata": {
        "id": "Mt4VrxGutFaB",
        "colab_type": "text"
      },
      "source": [
        "# Degrees of Freedom & Critical-Value & T-Table - Unpaired Samples (Independent)\n",
        "\n"
      ]
    },
    {
      "cell_type": "markdown",
      "metadata": {
        "id": "pIOHJz7EvCBC",
        "colab_type": "text"
      },
      "source": [
        "![t-test](https://lh5.googleusercontent.com/B_QMr6Ih3kgMA-QzkDSFLjeL2pyqwhYs2fhVR2FME9Cxq5UQxJz_8Omf4nl5tA3w1wZ0Pq3w6lKTbZ_GmJnZ=w1920-h1007-rw)"
      ]
    },
    {
      "cell_type": "markdown",
      "metadata": {
        "id": "dsZFgt1Qv5Nv",
        "colab_type": "text"
      },
      "source": [
        "![p_value_table](https://www.biologyforlife.com/uploads/2/2/3/9/22392738/ttable.png)\n"
      ]
    },
    {
      "cell_type": "code",
      "metadata": {
        "id": "Y9aHUjRXw3qX",
        "colab_type": "code",
        "colab": {}
      },
      "source": [
        "## BEFORE (From '2020-05-11' to '2020-05-26') ~ 15 days\n",
        "## AFTER (From '2020-05-26' to '2020-06-11') ~ 15 days\n",
        "# Soft Bounce (SB) Degrees of Freedom:\n",
        "\n",
        "#233310:\n",
        "df_exp_old_shared_CONTROL = old_shared_CONTROL_before_SB_datapoints + old_shared_CONTROL_after_SB_datapoints - 2\n",
        "df_exp_old_shared_TEST    = old_shared_TEST_before_SB_datapoints + old_shared_TEST_after_SB_datapoints - 2\n",
        "\n",
        "#bad_excellent:\n",
        "df_exp_BE_CONTROL = BE_CONTROL_before_SB_datapoints + BE_CONTROL_after_SB_datapoints - 2\n",
        "df_exp_BE_TEST    = BE_TEST_before_SB_datapoints + BE_TEST_after_SB_datapoints - 2\n",
        "\n",
        "#Magic Johnson:\n",
        "df_exp_MJ_CONTROL = MJ_CONTROL_before_SB_datapoints + MJ_CONTROL_after_SB_datapoints - 2\n",
        "df_exp_MJ_TEST    = MJ_TEST_before_SB_datapoints + MJ_TEST_after_SB_datapoints - 2"
      ],
      "execution_count": null,
      "outputs": []
    },
    {
      "cell_type": "code",
      "metadata": {
        "id": "Lng4pqivyLaO",
        "colab_type": "code",
        "colab": {
          "base_uri": "https://localhost:8080/",
          "height": 254
        },
        "outputId": "6c723344-3aa8-48ae-e453-39ae8b4bf35f"
      },
      "source": [
        "print('Degrees of Freedom:')\n",
        "print(' ')\n",
        "print('#233310:')\n",
        "print('df_exp_old_shared_CONTROL = {}'.format(df_exp_old_shared_CONTROL))\n",
        "print('df_exp_old_shared_TEST = {}'.format(df_exp_old_shared_TEST))\n",
        "print(' ')\n",
        "print('#bad_excellent:')\n",
        "print('df_exp_BE_CONTROL = {}'.format(df_exp_BE_CONTROL))\n",
        "print('df_exp_BE_TEST = {}'.format(df_exp_BE_TEST))\n",
        "print(' ')\n",
        "print('#Magic Johnson:')\n",
        "print('df_exp_MJ_CONTROL = {}'.format(df_exp_MJ_CONTROL))\n",
        "print('df_exp_MJ_TEST = {}'.format(df_exp_MJ_TEST))"
      ],
      "execution_count": null,
      "outputs": [
        {
          "output_type": "stream",
          "text": [
            "Degrees of Freedom:\n",
            " \n",
            "#233310:\n",
            "df_exp_old_shared_CONTROL = 19\n",
            "df_exp_old_shared_TEST = 16\n",
            " \n",
            "#bad_excellent:\n",
            "df_exp_BE_CONTROL = 19\n",
            "df_exp_BE_TEST = 20\n",
            " \n",
            "#Magic Johnson:\n",
            "df_exp_MJ_CONTROL = 22\n",
            "df_exp_MJ_TEST = 21\n"
          ],
          "name": "stdout"
        }
      ]
    },
    {
      "cell_type": "markdown",
      "metadata": {
        "id": "RVl0zyqLSwTW",
        "colab_type": "text"
      },
      "source": [
        "![t-test-chosen](https://lh4.googleusercontent.com/43wHV5uDMD4C6IVZgWpURqeBZ_j4YrVc3ooHlfV5EWp22c74Eb5ObH6HcFDVqKoo1c_6k2zqeeegcxqrhUok=w1920-h1007)"
      ]
    },
    {
      "cell_type": "code",
      "metadata": {
        "id": "051LAYtdRZjc",
        "colab_type": "code",
        "colab": {}
      },
      "source": [
        "# From the t-table:\n",
        "#_______________________________________________________\n",
        "# Alpha-value (\"Significance Level\") of 5%:   (Balanced Type I and Type II error probability)\n",
        "\n",
        "#233310:\n",
        "critical_value_exp_old_shared_CONTROL = 2.093  #19\n",
        "critical_value_exp_old_shared_TEST = 2.120     #16\n",
        "\n",
        "#bad_excellent:\n",
        "critical_value_exp_BE_CONTROL = 2.093  #19\n",
        "critical_value_exp_BE_TEST = 2.086  #20\n",
        "\n",
        "#Magic Johnson:\n",
        "critical_value_exp_MJ_CONTROL = 2.074  #22\n",
        "critical_value_exp_MJ_TEST = 2.080  #21"
      ],
      "execution_count": null,
      "outputs": []
    },
    {
      "cell_type": "markdown",
      "metadata": {
        "id": "ZcguNSSRsFgZ",
        "colab_type": "text"
      },
      "source": [
        "# t-value - Unpaired Samples (Independent)"
      ]
    },
    {
      "cell_type": "markdown",
      "metadata": {
        "id": "ZF7OF8H4bV5w",
        "colab_type": "text"
      },
      "source": [
        "Unpaired Samples (Independent)\n",
        "\n",
        "![t_value](https://lh4.googleusercontent.com/OcjIMZW9HaT0KOhfpVtSEepN6p57PGWp_12ZSlI489Z1LbF6Znj6EpEu0uMnQxRCbIVDE3OD-_EkT0u8uJvo=w1920-h1007-rw)"
      ]
    },
    {
      "cell_type": "markdown",
      "metadata": {
        "id": "udpoXmfz3qHk",
        "colab_type": "text"
      },
      "source": [
        "It is a Ratio between the difference **between** two groups (means) and the difference **within** the groups (variability)\n",
        "\n",
        "*   A large t-value tells you that the groups **are different**.\n",
        "*   A small t-value tells you that the groups **are similar**."
      ]
    },
    {
      "cell_type": "code",
      "metadata": {
        "id": "FNxw18GKsHju",
        "colab_type": "code",
        "colab": {}
      },
      "source": [
        "# Unpaired Samples (Independent):\n",
        "\n",
        "#233310:\n",
        "t_value_exp_old_shared_CONTROL = (abs( (old_shared_CONTROL_before_SB_mean) - (old_shared_CONTROL_after_SB_mean) )) / (math.sqrt(( ( (old_shared_CONTROL_before_SB_variance) / (old_shared_CONTROL_before_SB_datapoints) ) + ( (old_shared_CONTROL_after_SB_variance) / (old_shared_CONTROL_after_SB_datapoints) ))))\n",
        "t_value_exp_old_shared_TEST = (abs( (old_shared_TEST_before_SB_mean) - (old_shared_TEST_after_SB_mean) )) / (math.sqrt(( ( (old_shared_TEST_before_SB_variance) / (old_shared_TEST_before_SB_datapoints) ) + ( (old_shared_TEST_after_SB_variance) / (old_shared_TEST_after_SB_datapoints) ))))\n",
        "\n",
        "#bad_excellent:\n",
        "t_value_exp_BE_CONTROL = (abs( (BE_CONTROL_before_SB_mean) - (BE_CONTROL_after_SB_mean) )) / (math.sqrt(( ( (BE_CONTROL_before_SB_variance) / (BE_CONTROL_before_SB_datapoints) ) + ( (BE_CONTROL_after_SB_variance) / (BE_CONTROL_after_SB_datapoints) ))))\n",
        "t_value_exp_BE_TEST = (abs( (BE_TEST_before_SB_mean) - (BE_TEST_after_SB_mean) )) / (math.sqrt(( ( (BE_TEST_before_SB_variance) / (BE_TEST_before_SB_datapoints) ) + ( (BE_TEST_after_SB_variance) / (BE_TEST_after_SB_datapoints) ))))\n",
        "\n",
        "#Magic Johnson:\n",
        "t_value_exp_MJ_CONTROL = (abs( (MJ_CONTROL_before_SB_mean) - (MJ_CONTROL_after_SB_mean) )) / (math.sqrt(( ( (MJ_CONTROL_before_SB_variance) / (MJ_CONTROL_before_SB_datapoints) ) + ( (MJ_CONTROL_after_SB_variance) / (MJ_CONTROL_after_SB_datapoints) ))))\n",
        "t_value_exp_MJ_TEST = (abs( (MJ_TEST_before_SB_mean) - (MJ_TEST_after_SB_mean) )) / (math.sqrt(( ( (MJ_TEST_before_SB_variance) / (MJ_TEST_before_SB_datapoints) ) + ( (MJ_TEST_after_SB_variance) / (MJ_TEST_after_SB_datapoints) ))))"
      ],
      "execution_count": null,
      "outputs": []
    },
    {
      "cell_type": "code",
      "metadata": {
        "id": "fK4Hx_u2tJdu",
        "colab_type": "code",
        "colab": {
          "base_uri": "https://localhost:8080/",
          "height": 254
        },
        "outputId": "47dcc151-e696-4c85-f9c2-d7cc41ed3bb6"
      },
      "source": [
        "print('T-Values:')\n",
        "print(' ')\n",
        "print('#233310:')\n",
        "print('t_value_exp_old_shared_CONTROL = {}'.format(t_value_exp_old_shared_CONTROL))\n",
        "print('t_value_exp_old_shared_TEST = {}'.format(t_value_exp_old_shared_TEST))\n",
        "print(' ')\n",
        "print('#bad_excellent:')\n",
        "print('t_value_exp_BE_CONTROL = {}'.format(t_value_exp_BE_CONTROL))\n",
        "print('t_value_exp_BE_TEST = {}'.format(t_value_exp_BE_TEST))\n",
        "print(' ')\n",
        "print('#Magic Johnson:')\n",
        "print('t_value_exp_MJ_CONTROL = {}'.format(t_value_exp_MJ_CONTROL))\n",
        "print('t_value_exp_MJ_TEST = {}'.format(t_value_exp_MJ_TEST))"
      ],
      "execution_count": null,
      "outputs": [
        {
          "output_type": "stream",
          "text": [
            "T-Values:\n",
            " \n",
            "#233310:\n",
            "t_value_exp_old_shared_CONTROL = 0.08135611395154928\n",
            "t_value_exp_old_shared_TEST = 0.5405841132154476\n",
            " \n",
            "#bad_excellent:\n",
            "t_value_exp_BE_CONTROL = 2.0149086557846996\n",
            "t_value_exp_BE_TEST = 1.557890946465808\n",
            " \n",
            "#Magic Johnson:\n",
            "t_value_exp_MJ_CONTROL = 0.6997835809991174\n",
            "t_value_exp_MJ_TEST = 0.8004381029457525\n"
          ],
          "name": "stdout"
        }
      ]
    },
    {
      "cell_type": "markdown",
      "metadata": {
        "id": "yVJAZI0-U69E",
        "colab_type": "text"
      },
      "source": [
        "# T-Test Check - Unpaired Samples (Independent)"
      ]
    },
    {
      "cell_type": "code",
      "metadata": {
        "id": "VpAZQZdXcXB_",
        "colab_type": "code",
        "colab": {
          "base_uri": "https://localhost:8080/",
          "height": 745
        },
        "outputId": "ea3e16d2-90b1-4e0c-f1a4-842f65bfe4d5"
      },
      "source": [
        "# Verifying t-test:\n",
        "# If T_Value > Critical_Value, then P_Value > .05\n",
        "\n",
        "#233310:\n",
        "print('#233310 - CONTROL:')\n",
        "print(' ')\n",
        "if t_value_exp_old_shared_CONTROL > critical_value_exp_old_shared_CONTROL:\n",
        "    print(\"REJECT the H0 -> There is statistically significant difference between the samples\")\n",
        "else:\n",
        "    print(\"Don't Reject the H0 -> There is NO statistically significant difference between the samples\")\n",
        "print('t_value_exp_old_shared_CONTROL = {}'.format(t_value_exp_old_shared_CONTROL))\n",
        "print('critical_value_exp_old_shared_CONTROL = {}'.format(critical_value_exp_old_shared_CONTROL))\n",
        "print(' ')\n",
        "print(' ')\n",
        "print('#233310 - TEST:')\n",
        "print(' ')\n",
        "if t_value_exp_old_shared_TEST > critical_value_exp_old_shared_TEST:\n",
        "    print(\"REJECT the H0 -> There is statistically significant difference between the samples\")\n",
        "else:\n",
        "    print(\"Don't Reject the H0 -> There is NO statistically significant difference between the samples\")\n",
        "print('t_value_exp_old_shared_TEST = {}'.format(t_value_exp_old_shared_TEST))\n",
        "print('critical_value_exp_old_shared_TEST = {}'.format(critical_value_exp_old_shared_TEST))\n",
        "print('________________________________________________________________________________________________________')\n",
        "print(' ')\n",
        "\n",
        "#______________________________________________________________________________________________________________\n",
        "#bad_excellent:\n",
        "print('#bad_excellent - CONTROL:')\n",
        "print(' ')\n",
        "if t_value_exp_BE_CONTROL > critical_value_exp_BE_CONTROL:\n",
        "    print(\"REJECT the H0 -> There is statistically significant difference between the samples\")\n",
        "else:\n",
        "    print(\"Don't Reject the H0 -> There is NO statistically significant difference between the samples\")\n",
        "print('t_value_exp_BE_CONTROL = {}'.format(t_value_exp_BE_CONTROL))\n",
        "print('critical_value_exp_BE_CONTROL = {}'.format(critical_value_exp_BE_CONTROL))\n",
        "print(' ')\n",
        "print(' ')\n",
        "print('#bad_excellent - TEST:')\n",
        "print(' ')\n",
        "if t_value_exp_BE_TEST > critical_value_exp_BE_TEST:\n",
        "    print(\"REJECT the H0 -> There is statistically significant difference between the samples\")\n",
        "else:\n",
        "    print(\"Don't Reject the H0 -> There is NO statistically significant difference between the samples\")\n",
        "print('t_value_exp_BE_TEST = {}'.format(t_value_exp_BE_TEST))\n",
        "print('critical_value_exp_BE_TEST = {}'.format(critical_value_exp_BE_TEST))\n",
        "print('________________________________________________________________________________________________________')\n",
        "print(' ')\n",
        "\n",
        "#______________________________________________________________________________________________________________\n",
        "#Magic Johnson:\n",
        "print('#Magic Johnson - CONTROL:')\n",
        "print(' ')\n",
        "if t_value_exp_MJ_CONTROL > critical_value_exp_MJ_CONTROL:\n",
        "    print(\"REJECT the H0 -> There is statistically significant difference between the samples\")\n",
        "else:\n",
        "    print(\"Don't Reject the H0 -> There is NO statistically significant difference between the samples\")\n",
        "print('t_value_exp_MJ_CONTROL = {}'.format(t_value_exp_MJ_CONTROL))\n",
        "print('critical_value_exp_MJ_CONTROL = {}'.format(critical_value_exp_MJ_CONTROL))\n",
        "print(' ')\n",
        "print(' ')\n",
        "print('#Magic Johnson - TEST:')\n",
        "print(' ')\n",
        "if t_value_exp_MJ_TEST > critical_value_exp_MJ_TEST:\n",
        "    print(\"REJECT the H0 -> There is statistically significant difference between the samples\")\n",
        "else:\n",
        "    print(\"Don't Reject the H0 -> There is NO statistically significant difference between the samples\")\n",
        "print('t_value_exp_MJ_TEST = {}'.format(t_value_exp_MJ_TEST))\n",
        "print('critical_value_exp_MJ_TEST = {}'.format(critical_value_exp_MJ_TEST))"
      ],
      "execution_count": null,
      "outputs": [
        {
          "output_type": "stream",
          "text": [
            "#233310 - CONTROL:\n",
            " \n",
            "Don't Reject the H0 -> There is NO statistically significant difference between the samples\n",
            "t_value_exp_old_shared_CONTROL = 0.08135611395154928\n",
            "critical_value_exp_old_shared_CONTROL = 2.093\n",
            " \n",
            " \n",
            "#233310 - TEST:\n",
            " \n",
            "Don't Reject the H0 -> There is NO statistically significant difference between the samples\n",
            "t_value_exp_old_shared_TEST = 0.5405841132154476\n",
            "critical_value_exp_old_shared_TEST = 2.12\n",
            "________________________________________________________________________________________________________\n",
            " \n",
            "#bad_excellent - CONTROL:\n",
            " \n",
            "Don't Reject the H0 -> There is NO statistically significant difference between the samples\n",
            "t_value_exp_BE_CONTROL = 2.0149086557846996\n",
            "critical_value_exp_BE_CONTROL = 2.093\n",
            " \n",
            " \n",
            "#bad_excellent - TEST:\n",
            " \n",
            "Don't Reject the H0 -> There is NO statistically significant difference between the samples\n",
            "t_value_exp_BE_TEST = 1.557890946465808\n",
            "critical_value_exp_BE_TEST = 2.086\n",
            "________________________________________________________________________________________________________\n",
            " \n",
            "#Magic Johnson - CONTROL:\n",
            " \n",
            "Don't Reject the H0 -> There is NO statistically significant difference between the samples\n",
            "t_value_exp_MJ_CONTROL = 0.6997835809991174\n",
            "critical_value_exp_MJ_CONTROL = 2.074\n",
            " \n",
            " \n",
            "#Magic Johnson - TEST:\n",
            " \n",
            "Don't Reject the H0 -> There is NO statistically significant difference between the samples\n",
            "t_value_exp_MJ_TEST = 0.8004381029457525\n",
            "critical_value_exp_MJ_TEST = 2.08\n"
          ],
          "name": "stdout"
        }
      ]
    }
  ]
}